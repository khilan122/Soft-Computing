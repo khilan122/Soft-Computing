{
  "nbformat": 4,
  "nbformat_minor": 0,
  "metadata": {
    "colab": {
      "name": "SC_P5.ipynb",
      "provenance": [],
      "collapsed_sections": [],
      "include_colab_link": true
    },
    "kernelspec": {
      "name": "python3",
      "display_name": "Python 3"
    },
    "language_info": {
      "name": "python"
    }
  },
  "cells": [
    {
      "cell_type": "markdown",
      "metadata": {
        "id": "view-in-github",
        "colab_type": "text"
      },
      "source": [
        "<a href=\"https://colab.research.google.com/github/khilan122/Soft-Computing/blob/main/SC_P5.ipynb\" target=\"_parent\"><img src=\"https://colab.research.google.com/assets/colab-badge.svg\" alt=\"Open In Colab\"/></a>"
      ]
    },
    {
      "cell_type": "markdown",
      "source": [
        "Implement Union, Intersection, Complement and Difference operations on fuzzy sets. Also create fuzzy\n",
        "relation by Cartesian product of any two fuzzy sets and perform maxmin composition on any two fuzzy\n",
        "relations. "
      ],
      "metadata": {
        "id": "dA0VxA_LVu4S"
      }
    },
    {
      "cell_type": "code",
      "execution_count": null,
      "metadata": {
        "id": "WJEsKsjFVprL"
      },
      "outputs": [],
      "source": [
        "SetA=dict()\n",
        "SetB=dict()\n",
        "Union=dict()\n",
        "Intersection=dict()\n",
        "Complement=dict()"
      ]
    },
    {
      "cell_type": "code",
      "source": [
        "ComplementA=dict()\n",
        "ComplementB=dict()"
      ],
      "metadata": {
        "id": "5gmkenDpZWhv"
      },
      "execution_count": null,
      "outputs": []
    },
    {
      "cell_type": "code",
      "source": [
        "Difference=dict()\n",
        "Cartesian=dict()\n"
      ],
      "metadata": {
        "id": "0kQQ5r7lbScX"
      },
      "execution_count": null,
      "outputs": []
    },
    {
      "cell_type": "code",
      "source": [
        "SetA={\"a\":0.2,\"b\":0.3,\"c\":0.6,\"d\":0.6}\n",
        "SetB={\"a\":0.9,\"b\":0.9,\"c\":0.4,\"d\":0.5}\n",
        "\n",
        "print(\" Fuzzy Set A is : \",SetA)\n",
        "print(\" Fuzzy Set B is : \",SetB)"
      ],
      "metadata": {
        "colab": {
          "base_uri": "https://localhost:8080/"
        },
        "id": "6GqjOdl-WN6Y",
        "outputId": "5a34bb32-d09d-4623-fd3d-4e2fe966c3b5"
      },
      "execution_count": null,
      "outputs": [
        {
          "output_type": "stream",
          "name": "stdout",
          "text": [
            " Fuzzy Set A is :  {'a': 0.2, 'b': 0.3, 'c': 0.6, 'd': 0.6}\n",
            " Fuzzy Set B is :  {'a': 0.9, 'b': 0.9, 'c': 0.4, 'd': 0.5}\n"
          ]
        }
      ]
    },
    {
      "cell_type": "markdown",
      "source": [
        ""
      ],
      "metadata": {
        "id": "3WocmVW53mis"
      }
    },
    {
      "cell_type": "markdown",
      "source": [
        "Union"
      ],
      "metadata": {
        "id": "VgCxp8--a0NQ"
      }
    },
    {
      "cell_type": "code",
      "source": [
        "def getUnion(SetA,SetB):\n",
        "\n",
        "  for A_key,B_key in zip(SetA,SetB):\n",
        "\n",
        "    A_value=SetA[A_key]\n",
        "    B_value=SetB[B_key]\n",
        "\n",
        "    if A_value > B_value:\n",
        "      Union[A_key]=A_value\n",
        "    else:\n",
        "      Union[B_key]=B_value\n",
        "  return Union"
      ],
      "metadata": {
        "id": "LkDeTYcyW_mb"
      },
      "execution_count": null,
      "outputs": []
    },
    {
      "cell_type": "code",
      "source": [
        "fuzzyUnion=getUnion(SetA,SetB)\n",
        "print(fuzzyUnion)"
      ],
      "metadata": {
        "colab": {
          "base_uri": "https://localhost:8080/"
        },
        "id": "Q4z-SOCeXqY1",
        "outputId": "702ea94e-c558-45f1-9c32-b92706e8f043"
      },
      "execution_count": null,
      "outputs": [
        {
          "output_type": "stream",
          "name": "stdout",
          "text": [
            "{'a': 0.9, 'b': 0.9, 'c': 0.6, 'd': 0.6}\n"
          ]
        }
      ]
    },
    {
      "cell_type": "markdown",
      "source": [
        "Intersection"
      ],
      "metadata": {
        "id": "Xa8761o7a3CK"
      }
    },
    {
      "cell_type": "code",
      "source": [
        "def getIntersection(SetA,SetB):\n",
        "\n",
        "  for A_key,B_key in zip(SetA,SetB):\n",
        "\n",
        "    A_value=SetA[A_key]\n",
        "    B_value=SetB[B_key]\n",
        "\n",
        "    if A_value < B_value:\n",
        "      Intersection[A_key]=A_value\n",
        "    else:\n",
        "      Intersection[B_key]=B_value\n",
        "  return Intersection"
      ],
      "metadata": {
        "id": "A2x2M_P_X53Y"
      },
      "execution_count": null,
      "outputs": []
    },
    {
      "cell_type": "code",
      "source": [
        "fuzzyIntersection=getIntersection(SetA,SetB)\n",
        "print(fuzzyIntersection)"
      ],
      "metadata": {
        "colab": {
          "base_uri": "https://localhost:8080/"
        },
        "id": "UWKVwJRdYV7s",
        "outputId": "302291ee-2c13-4df4-d830-fdeeb11e8a38"
      },
      "execution_count": null,
      "outputs": [
        {
          "output_type": "stream",
          "name": "stdout",
          "text": [
            "{'a': 0.2, 'b': 0.3, 'c': 0.4, 'd': 0.5}\n"
          ]
        }
      ]
    },
    {
      "cell_type": "markdown",
      "source": [
        "Complement"
      ],
      "metadata": {
        "id": "vKRcv-s-a5Lr"
      }
    },
    {
      "cell_type": "code",
      "source": [
        "def getComplement(Set):\n",
        "\n",
        "  for key in Set:\n",
        "    value=Set[key]\n",
        "    Complement[key]=round(1-value,2)\n",
        "  return Complement\n",
        "    "
      ],
      "metadata": {
        "id": "h2LpxkliYzU-"
      },
      "execution_count": null,
      "outputs": []
    },
    {
      "cell_type": "code",
      "source": [
        "ComplementA = getComplement(SetA)\n",
        "print(\" Complement of Set A is : \",ComplementA)"
      ],
      "metadata": {
        "colab": {
          "base_uri": "https://localhost:8080/"
        },
        "id": "t0RMIPgJZohB",
        "outputId": "c38cfa47-17b5-41c9-f6d8-6fd72c45f520"
      },
      "execution_count": null,
      "outputs": [
        {
          "output_type": "stream",
          "name": "stdout",
          "text": [
            " Complement of Set A is :  {'a': 0.8, 'b': 0.7, 'c': 0.4, 'd': 0.4}\n"
          ]
        }
      ]
    },
    {
      "cell_type": "code",
      "source": [
        "ComplementB = getComplement(SetB)\n",
        "print(\" Complement of Set B is : \",ComplementB)"
      ],
      "metadata": {
        "colab": {
          "base_uri": "https://localhost:8080/"
        },
        "id": "8wie1ydPaUKy",
        "outputId": "33eaff52-3559-4a28-df42-a773775e2515"
      },
      "execution_count": null,
      "outputs": [
        {
          "output_type": "stream",
          "name": "stdout",
          "text": [
            " Complement of Set B is :  {'a': 0.1, 'b': 0.1, 'c': 0.6, 'd': 0.5}\n"
          ]
        }
      ]
    },
    {
      "cell_type": "markdown",
      "source": [
        "Difference"
      ],
      "metadata": {
        "id": "A0RP6NpreD3j"
      }
    },
    {
      "cell_type": "code",
      "source": [
        "def getDifference(SetA,SetB):\n",
        "\n",
        "  for A_key,B_key in zip(SetA,SetB):\n",
        "\n",
        "    A_value=SetA[A_key]\n",
        "    B_value=SetB[B_key]\n",
        "    B_value=round(1-B_value,2)\n",
        "    if A_value < B_value:\n",
        "      Difference[A_key]=A_value\n",
        "    else:\n",
        "      Difference[B_key]=B_value\n",
        "  return Difference"
      ],
      "metadata": {
        "id": "n1T7EgQSeGAi"
      },
      "execution_count": null,
      "outputs": []
    },
    {
      "cell_type": "code",
      "source": [
        "DifferenceA=getDifference(SetA,SetB)\n",
        "print(\" The Difference of A with B is : \",DifferenceA)"
      ],
      "metadata": {
        "colab": {
          "base_uri": "https://localhost:8080/"
        },
        "id": "5CK3RwbjepM0",
        "outputId": "e826b221-1f4c-4076-8dc6-0cef8c9aec9b"
      },
      "execution_count": null,
      "outputs": [
        {
          "output_type": "stream",
          "name": "stdout",
          "text": [
            " The Difference of A with B is :  {'a': 0.1, 'b': 0.1, 'c': 0.6, 'd': 0.5}\n"
          ]
        }
      ]
    },
    {
      "cell_type": "code",
      "source": [
        "DifferenceB=getDifference(SetB,SetA)\n",
        "print(\" The Difference of B with A is : \",DifferenceB)"
      ],
      "metadata": {
        "colab": {
          "base_uri": "https://localhost:8080/"
        },
        "id": "uPbCEl0Qe9GV",
        "outputId": "bed18d9e-00cc-40f3-93ef-947dbece064c"
      },
      "execution_count": null,
      "outputs": [
        {
          "output_type": "stream",
          "name": "stdout",
          "text": [
            " The Difference of B with A is :  {'a': 0.8, 'b': 0.7, 'c': 0.4, 'd': 0.4}\n"
          ]
        }
      ]
    },
    {
      "cell_type": "markdown",
      "source": [
        "Cartesian Product"
      ],
      "metadata": {
        "id": "PwbUcVMQcziU"
      }
    },
    {
      "cell_type": "code",
      "source": [
        "import numpy as np"
      ],
      "metadata": {
        "id": "4DtbN8T8m6n5"
      },
      "execution_count": null,
      "outputs": []
    },
    {
      "cell_type": "code",
      "source": [
        "R=[[0.5,0.1],[0.2,0.9],[0.8,0.6]]\n",
        "S=[[0.6,0.4,0.7],[0.5,0.8,0.9]]\n",
        "Cartesian=[[0,0,0],[0,0,0],[0,0,0]]\n",
        "l=[]\n",
        "for i in range(len(R)):\n",
        " \n",
        "    for j in range(len(S[0])):\n",
        "        l=[]\n",
        "        for k in range(len(S)):\n",
        "            val1=R[i][k]\n",
        "            val2=S[k][j]\n",
        "            l.append(np.minimum(val1,val2))\n",
        "        Cartesian[i][j] = l[np.argmax(l)]\n",
        "\n",
        "print(\"The Cartesian Product of R and S is : \")\n",
        "for r in Cartesian:\n",
        "    print(r)"
      ],
      "metadata": {
        "colab": {
          "base_uri": "https://localhost:8080/"
        },
        "id": "Ab6bvGLDbViV",
        "outputId": "b30264c1-428c-41c8-bca8-a1a6969ceefd"
      },
      "execution_count": null,
      "outputs": [
        {
          "output_type": "stream",
          "name": "stdout",
          "text": [
            "The Cartesian Product of R and S is : \n",
            "[0.5, 0.4, 0.5]\n",
            "[0.5, 0.8, 0.9]\n",
            "[0.6, 0.6, 0.7]\n"
          ]
        }
      ]
    }
  ]
}