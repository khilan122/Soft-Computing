{
  "cells": [
    {
      "cell_type": "markdown",
      "metadata": {
        "id": "view-in-github",
        "colab_type": "text"
      },
      "source": [
        "<a href=\"https://colab.research.google.com/github/khilan122/Soft-Computing/blob/main/SC_P8.ipynb\" target=\"_parent\"><img src=\"https://colab.research.google.com/assets/colab-badge.svg\" alt=\"Open In Colab\"/></a>"
      ]
    },
    {
      "cell_type": "code",
      "execution_count": null,
      "metadata": {
        "id": "0-65cT24qAPL"
      },
      "outputs": [],
      "source": [
        "import numpy as np, random, operator, pandas as pd\n",
        "import matplotlib.pyplot as plt\n"
      ]
    },
    {
      "cell_type": "code",
      "execution_count": null,
      "metadata": {
        "id": "yCD3WhDLqAPV"
      },
      "outputs": [],
      "source": [
        "def create_starting_population(size,Number_of_city):\n",
        "    \n",
        "    population = []\n",
        "    \n",
        "    for i in range(0,size):\n",
        "        population.append(create_new_member(Number_of_city))\n",
        "        \n",
        "    return population"
      ]
    },
    {
      "cell_type": "code",
      "execution_count": null,
      "metadata": {
        "id": "ajNIqAhoqAPX"
      },
      "outputs": [],
      "source": [
        "def pick_mate(N):\n",
        "    \n",
        "    i=random.randint(0,N)    \n",
        "    return i"
      ]
    },
    {
      "cell_type": "code",
      "execution_count": null,
      "metadata": {
        "id": "lki6mCNYqAPY"
      },
      "outputs": [],
      "source": [
        "def distance(i,j):\n",
        "     \n",
        "    return np.sqrt((i[0]-j[0])**2 + (i[1]-j[1])**2)\n",
        "    "
      ]
    },
    {
      "cell_type": "code",
      "execution_count": null,
      "metadata": {
        "id": "e-lN1Z-pqAPa"
      },
      "outputs": [],
      "source": [
        "def score_population(population, CityList):  \n",
        "    \n",
        "    scores = []\n",
        "  \n",
        "    for i in population:\n",
        "        #print(i)\n",
        "        scores.append(fitness(i, CityList))\n",
        "        #print([fitness(i, the_map)])\n",
        "    return scores"
      ]
    },
    {
      "cell_type": "code",
      "execution_count": null,
      "metadata": {
        "id": "wKdaDWG9qAPb"
      },
      "outputs": [],
      "source": [
        "def fitness(route,CityList):\n",
        "    \n",
        "    score=0\n",
        "    for i in range(1,len(route)):\n",
        "        k=int(route[i-1])\n",
        "        l=int(route[i])\n",
        "\n",
        "        score = score + distance(CityList[k],CityList[l])\n",
        "        \n",
        "        \n",
        "    return score"
      ]
    },
    {
      "cell_type": "code",
      "execution_count": null,
      "metadata": {
        "id": "4P49BczEqAPd"
      },
      "outputs": [],
      "source": [
        "def create_new_member(Number_of_city):\n",
        "    \n",
        "    pop=set(np.arange(Number_of_city,dtype=int))\n",
        "    route=list(random.sample(pop,Number_of_city))\n",
        "            \n",
        "    return route"
      ]
    },
    {
      "cell_type": "code",
      "execution_count": null,
      "metadata": {
        "id": "FWGa6uLXqAPf"
      },
      "outputs": [],
      "source": [
        "def crossover(a,b):\n",
        "    \n",
        "    child=[]\n",
        "    childA=[]\n",
        "    childB=[]\n",
        "    \n",
        "    \n",
        "    geneA=int(random.random()* len(a))\n",
        "    geneB=int(random.random()* len(a))\n",
        "    \n",
        "    start_gene=min(geneA,geneB)\n",
        "    end_gene=max(geneA,geneB)\n",
        "    \n",
        "    for i in range(start_gene,end_gene):\n",
        "        childA.append(a[i])\n",
        "        \n",
        "    childB=[item for item in a if item not in childA]\n",
        "    child=childA+childB\n",
        "    \n",
        "    \n",
        "    \n",
        "       \n",
        "    return child\n"
      ]
    },
    {
      "cell_type": "code",
      "execution_count": null,
      "metadata": {
        "id": "O1m8AUTjqAPh"
      },
      "outputs": [],
      "source": [
        "def mutate(route,probablity):\n",
        "    \n",
        "    \n",
        "    route=np.array(route)\n",
        "    for swaping_p in range(len(route)):\n",
        "        if(random.random() < probablity):\n",
        "            swapedWith = np.random.randint(0,len(route))\n",
        "            \n",
        "            temp1=route[swaping_p]\n",
        "            \n",
        "            temp2=route[swapedWith]\n",
        "            route[swapedWith]=temp1\n",
        "            route[swaping_p]=temp2\n",
        "    \n",
        "    return route\n",
        "    \n",
        "    \n",
        "    "
      ]
    },
    {
      "cell_type": "code",
      "execution_count": null,
      "metadata": {
        "id": "CpJNCghiqAPj"
      },
      "outputs": [],
      "source": [
        "def selection(popRanked, eliteSize):\n",
        "    selectionResults=[]\n",
        "    result=[]\n",
        "    for i in popRanked:\n",
        "        result.append(i[0])\n",
        "    for i in range(0,eliteSize):\n",
        "        selectionResults.append(result[i])\n",
        "    \n",
        "    return selectionResults"
      ]
    },
    {
      "cell_type": "code",
      "execution_count": null,
      "metadata": {
        "id": "ZmdPEQ51qAPl"
      },
      "outputs": [],
      "source": [
        "def rankRoutes(population,City_List):\n",
        "    fitnessResults = {}\n",
        "    for i in range(0,len(population)):\n",
        "        fitnessResults[i] = fitness(population[i],City_List)\n",
        "    return sorted(fitnessResults.items(), key = operator.itemgetter(1), reverse = False)"
      ]
    },
    {
      "cell_type": "code",
      "execution_count": null,
      "metadata": {
        "id": "532VlYimqAPl"
      },
      "outputs": [],
      "source": [
        "def breedPopulation(mating_pool):\n",
        "    children=[]\n",
        "    for i in range(len(mating_pool)-1):\n",
        "            children.append(crossover(mating_pool[i],mating_pool[i+1]))\n",
        "    return children"
      ]
    },
    {
      "cell_type": "code",
      "execution_count": null,
      "metadata": {
        "id": "2ZEk2hPMqAPn"
      },
      "outputs": [],
      "source": [
        "def mutatePopulation(children,mutation_rate):\n",
        "    new_generation=[]\n",
        "    for i in children:\n",
        "        muated_child=mutate(i,mutation_rate)\n",
        "        new_generation.append(muated_child)\n",
        "    return new_generation"
      ]
    },
    {
      "cell_type": "code",
      "execution_count": null,
      "metadata": {
        "id": "o17ARYcPqAPn"
      },
      "outputs": [],
      "source": [
        "def matingPool(population, selectionResults):\n",
        "    matingpool = []\n",
        "    for i in range(0, len(selectionResults)):\n",
        "        index = selectionResults[i]\n",
        "        matingpool.append(population[index])\n",
        "    return matingpool"
      ]
    },
    {
      "cell_type": "code",
      "execution_count": null,
      "metadata": {
        "id": "LlWiQNYEqAPo"
      },
      "outputs": [],
      "source": [
        "def next_generation(City_List,current_population,mutation_rate,elite_size):\n",
        "    population_rank=rankRoutes(current_population,City_List)\n",
        "    \n",
        "    selection_result=selection(population_rank,elite_size)\n",
        "    \n",
        "    mating_pool=matingPool(current_population,selection_result)\n",
        "    \n",
        "    children=breedPopulation(mating_pool)\n",
        "    \n",
        "    next_generation=mutatePopulation(children,mutation_rate)\n",
        "    \n",
        "    return next_generation"
      ]
    },
    {
      "cell_type": "code",
      "execution_count": null,
      "metadata": {
        "id": "sZviiL4AqAPp"
      },
      "outputs": [],
      "source": [
        "def genetic_algorithm(City_List,size_population=1000,elite_size=75,mutation_Rate=0.05,generation=2000):\n",
        "    \n",
        "    pop=[]\n",
        "    progress = []\n",
        "    \n",
        "    Number_of_cities=len(City_List)\n",
        "    \n",
        "    population=create_starting_population(size_population,Number_of_cities)\n",
        "    progress.append(rankRoutes(population,City_List)[0][1])\n",
        "    print(f\"initial route distance {progress[0]}\")\n",
        "    print(f\"initial route {population[0]}\")\n",
        "    for i in range(0,generation):\n",
        "        pop = next_generation(City_List,population,mutation_Rate,elite_size)\n",
        "        progress.append(rankRoutes(pop,City_List)[0][1])\n",
        "    \n",
        "    \n",
        "    rank_=rankRoutes(pop,City_List)[0]\n",
        "    \n",
        "    print(f\"Best Route :{pop[rank_[0]]} \")\n",
        "    print(f\"best route distance {rank_[1]}\")\n",
        "    plt.plot(progress)\n",
        "    plt.ylabel('Distance')\n",
        "    plt.xlabel('Generation')\n",
        "    plt.show()\n",
        "    \n",
        "    return rank_, pop\n",
        "    \n",
        "        "
      ]
    },
    {
      "cell_type": "code",
      "execution_count": null,
      "metadata": {
        "scrolled": false,
        "id": "h1ui_0GSqAPq"
      },
      "outputs": [],
      "source": [
        "cityList = []\n",
        "\n",
        "\n",
        "for i in range(0,25):\n",
        "    x=int(random.random() * 200)\n",
        "    y=int(random.random() * 200)\n",
        "    cityList.append((x,y))"
      ]
    },
    {
      "cell_type": "code",
      "execution_count": null,
      "metadata": {
        "colab": {
          "base_uri": "https://localhost:8080/",
          "height": 366
        },
        "id": "X8HjGZkyqAPr",
        "outputId": "02981d0a-a626-42d9-bb46-e26348a20963"
      },
      "outputs": [
        {
          "output_type": "stream",
          "name": "stdout",
          "text": [
            "initial route distance 1874.7533903995036\n",
            "initial route [20, 16, 15, 5, 13, 19, 6, 17, 2, 11, 21, 7, 22, 9, 24, 8, 18, 10, 14, 1, 12, 23, 4, 3, 0]\n",
            "Best Route :[19 18  5 21 24 15  9 17 13 23  4 22  1  3 12  0  2  8 14 16 10 11  6  7\n",
            " 20] \n",
            "best route distance 1875.0385243969286\n"
          ]
        },
        {
          "output_type": "display_data",
          "data": {
            "text/plain": [
              "<Figure size 432x288 with 1 Axes>"
            ],
            "image/png": "[encoded data removed]"
          },
          "metadata": {
            "needs_background": "light"
          }
        }
      ],
      "source": [
        "rank_,pop=genetic_algorithm(City_List=cityList)"
      ]
    },
    {
      "cell_type": "code",
      "execution_count": null,
      "metadata": {
        "id": "pIyAuwS6qAPs"
      },
      "outputs": [],
      "source": [
        "x_axis=[]\n",
        "y_axis=[]\n",
        "for i in cityList:\n",
        "    x_axis.append(i[0])\n",
        "    y_axis.append(i[1])"
      ]
    },
    {
      "cell_type": "code",
      "execution_count": null,
      "metadata": {
        "colab": {
          "base_uri": "https://localhost:8080/",
          "height": 265
        },
        "id": "N3huCdpBqAPt",
        "outputId": "bf41c95c-2f9e-458b-ddc6-368ca03a1700"
      },
      "outputs": [
        {
          "output_type": "display_data",
          "data": {
            "text/plain": [
              "<Figure size 432x288 with 1 Axes>"
            ],
            "image/png": "[encoded data removed]"
          },
          "metadata": {
            "needs_background": "light"
          }
        }
      ],
      "source": [
        "plt.scatter(x_axis,y_axis)\n",
        "plt.show()"
      ]
    }
  ],
  "metadata": {
    "kernelspec": {
      "display_name": "Python 3",
      "language": "python",
      "name": "python3"
    },
    "language_info": {
      "codemirror_mode": {
        "name": "ipython",
        "version": 3
      },
      "file_extension": ".py",
      "mimetype": "text/x-python",
      "name": "python",
      "nbconvert_exporter": "python",
      "pygments_lexer": "ipython3",
      "version": "3.6.3"
    },
    "colab": {
      "name": "SC_P8.ipynb",
      "provenance": [],
      "collapsed_sections": [],
      "include_colab_link": true
    }
  },
  "nbformat": 4,
  "nbformat_minor": 0
}