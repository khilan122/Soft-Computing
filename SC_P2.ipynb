{
  "nbformat": 4,
  "nbformat_minor": 0,
  "metadata": {
    "colab": {
      "name": "SC_P2.ipynb",
      "provenance": [],
      "collapsed_sections": [],
      "include_colab_link": true
    },
    "kernelspec": {
      "name": "python3",
      "display_name": "Python 3"
    },
    "language_info": {
      "name": "python"
    }
  },
  "cells": [
    {
      "cell_type": "markdown",
      "metadata": {
        "id": "view-in-github",
        "colab_type": "text"
      },
      "source": [
        "<a href=\"https://colab.research.google.com/github/khilan122/Soft-Computing/blob/main/SC_P2.ipynb\" target=\"_parent\"><img src=\"https://colab.research.google.com/assets/colab-badge.svg\" alt=\"Open In Colab\"/></a>"
      ]
    },
    {
      "cell_type": "markdown",
      "source": [
        "**Aim** : To implement Or, AND and NOT Gate using **ADALINE** network and train it using **Delta** learning "
      ],
      "metadata": {
        "id": "3x0o_n0cafv7"
      }
    },
    {
      "cell_type": "code",
      "source": [
        "import numpy as np"
      ],
      "metadata": {
        "id": "KGL1pJ1bUmhT"
      },
      "execution_count": null,
      "outputs": []
    },
    {
      "cell_type": "code",
      "source": [
        "inputs = np.array([\n",
        "        [-1, -1],\n",
        "        [-1, 1],\n",
        "        [1, -1],\n",
        "        [1, 1]\n",
        "    ])\n",
        "\n",
        "outputs = np.array([-1, 1, 1, 1])\n",
        "\n",
        "print(inputs, outputs)"
      ],
      "metadata": {
        "colab": {
          "base_uri": "https://localhost:8080/"
        },
        "id": "GbvdKkYkU3Ym",
        "outputId": "6c6f9ad9-9264-4465-c716-c7379bdf1d73"
      },
      "execution_count": null,
      "outputs": [
        {
          "output_type": "stream",
          "name": "stdout",
          "text": [
            "[[-1 -1]\n",
            " [-1  1]\n",
            " [ 1 -1]\n",
            " [ 1  1]] [-1  1  1  1]\n"
          ]
        }
      ]
    },
    {
      "cell_type": "code",
      "source": [
        "weight=[1,1]\n",
        "bias=0\n",
        "errors=[]\n",
        "learning_rate=0.2\n",
        "epochs=10"
      ],
      "metadata": {
        "id": "N7FOpZxIVfD4"
      },
      "execution_count": null,
      "outputs": []
    },
    {
      "cell_type": "code",
      "source": [
        "for i in range(epochs):\n",
        "    sum_squared_error = 0\n",
        "    for j in range(inputs.shape[0]):\n",
        "        actual = outputs[j]\n",
        "        x1 = inputs[j][0]\n",
        "        x2 = inputs[j][1]\n",
        "        unit = (x1 * weight[0]) + (x2 * weight[1]) + bias\n",
        "        error = actual - unit\n",
        "        #print(\"error =\", error)\n",
        "        sum_squared_error += error * error\n",
        "        weight[0] += learning_rate * error * x1\n",
        "        weight[1] += learning_rate * error * x2\n",
        "        bias += learning_rate * error\n",
        "  \n",
        "    #print(\"sum of squared error = \", sum_squared_error/4, \"\\n\\n\")\n",
        "print(\" Weights are : \",weight)\n",
        "print(\" Bias is : \",bias)\n",
        "print(\" Sum Squared Error is : \",sum_squared_error/4)"
      ],
      "metadata": {
        "colab": {
          "base_uri": "https://localhost:8080/"
        },
        "id": "GZ6urL5qVsDL",
        "outputId": "6ea246a1-f954-467d-d052-40c35aa8333a"
      },
      "execution_count": null,
      "outputs": [
        {
          "output_type": "stream",
          "name": "stdout",
          "text": [
            " Weights are :  [0.4285739405864012, 0.3571407748270452]\n",
            " Bias is :  0.49999693916307275\n",
            " Sum Squared Error is :  0.5102037468245441\n"
          ]
        }
      ]
    },
    {
      "cell_type": "markdown",
      "source": [
        "AND Gate"
      ],
      "metadata": {
        "id": "vHlzY375a8vx"
      }
    },
    {
      "cell_type": "code",
      "source": [
        "outputs = np.array([-1, -1, -1, 1])\n"
      ],
      "metadata": {
        "id": "hkRQ2ptAX8dH"
      },
      "execution_count": null,
      "outputs": []
    },
    {
      "cell_type": "code",
      "source": [
        "weight=[1,1]\n",
        "bias=0\n",
        "errors=[]\n",
        "learning_rate=0.2\n",
        "epochs=10"
      ],
      "metadata": {
        "id": "6Z-3CYMBYCeZ"
      },
      "execution_count": null,
      "outputs": []
    },
    {
      "cell_type": "code",
      "source": [
        "for i in range(epochs):\n",
        "    sum_squared_error = 0\n",
        "    for j in range(inputs.shape[0]):\n",
        "        actual = outputs[j]\n",
        "        x1 = inputs[j][0]\n",
        "        x2 = inputs[j][1]\n",
        "        unit = (x1 * weight[0]) + (x2 * weight[1]) + bias\n",
        "        error = actual - unit\n",
        "        #print(\"error =\", error)\n",
        "        sum_squared_error += error * error\n",
        "        weight[0] += learning_rate * error * x1\n",
        "        weight[1] += learning_rate * error * x2\n",
        "        bias += learning_rate * error\n",
        "  \n",
        "    #print(\"sum of squared error = \", sum_squared_error/4, \"\\n\\n\")\n",
        "print(\" Weights are : \",weight)\n",
        "print(\" Bias is : \",bias)\n",
        "print(\" Sum Squared Error is : \",sum_squared_error/4)"
      ],
      "metadata": {
        "colab": {
          "base_uri": "https://localhost:8080/"
        },
        "id": "P_RU4RsEYFEh",
        "outputId": "40059f51-1341-4cee-8c5a-1ee4c23775c1"
      },
      "execution_count": null,
      "outputs": [
        {
          "output_type": "stream",
          "name": "stdout",
          "text": [
            " Weights are :  [0.5714319767623846, 0.6428611651212666]\n",
            " Bias is :  -0.5000053366683359\n",
            " Sum Squared Error is :  0.5102118094738022\n"
          ]
        }
      ]
    }
  ]
}